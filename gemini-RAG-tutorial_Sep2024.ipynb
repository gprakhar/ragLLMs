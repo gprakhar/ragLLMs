{
  "cells": [
    {
      "cell_type": "code",
      "execution_count": 53,
      "metadata": {
        "collapsed": true,
        "id": "RJ2d86KccFIR"
      },
      "outputs": [],
      "source": [
        "!pip install -U --quiet langchain langchain_community chromadb  langchain-google-vertexai langchain_chroma\n",
        "!pip install --quiet \"unstructured[all-docs]\" pypdf pillow pydantic lxml pillow matplotlib chromadb tiktoken"
      ]
    },
    {
      "cell_type": "code",
      "execution_count": 54,
      "metadata": {
        "id": "IuQAB5gddzYz"
      },
      "outputs": [],
      "source": [
        "PROJECT_ID = \"\"\n",
        "REGION = \"\"\n",
        "\n",
        "from google.colab import auth\n",
        "auth.authenticate_user()"
      ]
    },
    {
      "cell_type": "code",
      "execution_count": 55,
      "metadata": {
        "id": "jfva4TlKendO"
      },
      "outputs": [],
      "source": [
        "import vertexai\n",
        "vertexai.init(project = PROJECT_ID , location = REGION)"
      ]
    },
    {
      "cell_type": "code",
      "execution_count": 56,
      "metadata": {
        "id": "tcSJmggUeu9q"
      },
      "outputs": [],
      "source": [
        "#Download and prepare data\n",
        "import logging\n",
        "import zipfile\n",
        "import requests\n",
        "\n",
        "logging.basicConfig(level=logging.INFO)\n",
        "\n",
        "data_url = \"https://storage.googleapis.com/benchmarks-artifacts/langchain-docs-benchmarking/cj.zip\"\n",
        "result = requests.get(data_url)\n",
        "filename = \"cj.zip\"\n",
        "with open(filename, \"wb\") as file:\n",
        "   file.write(result.content)\n",
        "\n",
        "with zipfile.ZipFile(filename, \"r\") as zip_ref:\n",
        "   zip_ref.extractall()"
      ]
    },
    {
      "cell_type": "code",
      "execution_count": 57,
      "metadata": {
        "id": "qCp-4qLIe6iS"
      },
      "outputs": [],
      "source": [
        "#load the downloded \"cj.zip\"\n",
        "from langchain_community.document_loaders import PyPDFLoader\n",
        "\n",
        "loader = PyPDFLoader(\"./cj/cj.pdf\")\n",
        "docs = loader.load()\n",
        "tables = []\n",
        "texts = [d.page_content for d in docs]"
      ]
    },
    {
      "cell_type": "code",
      "execution_count": 59,
      "metadata": {
        "id": "L_OkhJydfpHp"
      },
      "outputs": [],
      "source": [
        "#Generate Text summaries\n",
        "from langchain_google_vertexai import VertexAI , ChatVertexAI , VertexAIEmbeddings\n",
        "from langchain.prompts import PromptTemplate\n",
        "from langchain_core.messages import AIMessage\n",
        "from langchain_core.output_parsers import StrOutputParser\n",
        "from langchain_core.runnables import RunnableLambda"
      ]
    },
    {
      "cell_type": "markdown",
      "metadata": {
        "id": "Fp-Hq2mWiX5A"
      },
      "source": [
        "Read about Runnable Lambda here - https://www.pinecone.io/learn/series/langchain/langchain-expression-language/"
      ]
    },
    {
      "cell_type": "code",
      "execution_count": 60,
      "metadata": {
        "id": "noAOMgjXxVKl"
      },
      "outputs": [],
      "source": [
        "# Generate summaries of text elements\n",
        "def generate_text_summaries(texts, tables, summarize_texts=False):\n",
        "   \"\"\"\n",
        "   Summarize text elements\n",
        "   texts: List of str\n",
        "   tables: List of str\n",
        "   summarize_texts: Bool to summarize texts\n",
        "   \"\"\"\n",
        "\n",
        "   # Prompt\n",
        "   prompt_text = \"\"\"You are an assistant tasked with summarizing tables and text for retrieval. \\\n",
        "   These summaries will be embedded and used to retrieve the raw text or table elements. \\\n",
        "   Give a concise summary of the table or text that is well optimized for retrieval. Table or text: {element} \"\"\"\n",
        "   prompt = PromptTemplate.from_template(prompt_text)\n",
        "   empty_response = RunnableLambda(\n",
        "       lambda x: AIMessage(content=\"Error processing document\")\n",
        "   )\n",
        "   # Text summary chain\n",
        "   model = VertexAI(\n",
        "       temperature=0, model_name=\"gemini-pro\", max_output_tokens=1024\n",
        "   ).with_fallbacks([empty_response])\n",
        "   summarize_chain = {\"element\": lambda x: x} | prompt | model | StrOutputParser()\n",
        "\n",
        "   # Initialize empty summaries\n",
        "   text_summaries = []\n",
        "   table_summaries = []\n",
        "\n",
        "   # Apply to text if texts are provided and summarization is requested\n",
        "   if texts and summarize_texts:\n",
        "       text_summaries = summarize_chain.batch(texts, {\"max_concurrency\": 1})\n",
        "   elif texts:\n",
        "       text_summaries = texts\n",
        "\n",
        "   # Apply to tables if tables are provided\n",
        "   if tables:\n",
        "       table_summaries = summarize_chain.batch(tables, {\"max_concurrency\": 1})\n",
        "\n",
        "   return text_summaries, table_summaries\n",
        "\n",
        "\n",
        "# Get text summaries\n",
        "text_summaries, table_summaries = generate_text_summaries(\n",
        "   texts, tables, summarize_texts=True\n",
        ")\n",
        "\n",
        "#text_summaries[0]"
      ]
    },
    {
      "cell_type": "markdown",
      "metadata": {
        "id": "Aon-0GZascTx"
      },
      "source": [
        "# Code for multi vector Retrival"
      ]
    },
    {
      "cell_type": "code",
      "execution_count": 62,
      "metadata": {
        "id": "JVjkbcnlskZw"
      },
      "outputs": [],
      "source": [
        "import uuid\n",
        "from langchain.retrievers.multi_vector import MultiVectorRetriever\n",
        "from langchain.storage import InMemoryStore\n",
        "from langchain_chroma import Chroma\n",
        "from langchain_core.documents import Document"
      ]
    },
    {
      "cell_type": "code",
      "execution_count": 63,
      "metadata": {
        "id": "NhH4nII9smqQ"
      },
      "outputs": [],
      "source": [
        "#This function provides functionality to first setup a retrival funtion,\n",
        "# then function to add the supplied documents to the DB (both the summary and\n",
        "# raw text), then return this initialized Retriver function\n",
        "def create_multi_vector_retriever(\n",
        "   vectorstore, text_summaries, texts, table_summaries, tables):\n",
        "   \"\"\"\n",
        "   Create retriever that indexes summaries, but returns raw images or texts\n",
        "   \"\"\"\n",
        "\n",
        "   # Initialize the storage layer\n",
        "   store = InMemoryStore()\n",
        "   id_key = \"doc_id\"\n",
        "\n",
        "   # Create the multi-vector retriever\n",
        "   retriever = MultiVectorRetriever(\n",
        "       vectorstore=vectorstore,\n",
        "       docstore=store,\n",
        "       id_key=id_key,\n",
        "   )\n",
        "\n",
        "   # Helper function to add documents to the vectorstore and docstore\n",
        "   def add_documents(retriever, doc_summaries, doc_contents):\n",
        "       doc_ids = [str(uuid.uuid4()) for _ in doc_contents]\n",
        "       summary_docs = [\n",
        "           Document(page_content=s, metadata={id_key: doc_ids[i]})\n",
        "           for i, s in enumerate(doc_summaries)\n",
        "       ]\n",
        "       retriever.vectorstore.add_documents(summary_docs) # Summary added to DB\n",
        "       retriever.docstore.mset(list(zip(doc_ids, doc_contents)))# Raw text added to DB\n",
        "\n",
        "   # Add texts, tables, and images\n",
        "   # Check that text_summaries is not empty before adding\n",
        "   if text_summaries:\n",
        "       add_documents(retriever, text_summaries, texts)\n",
        "   # Check that table_summaries is not empty before adding\n",
        "   if table_summaries:\n",
        "       add_documents(retriever, table_summaries, tables)\n",
        "\n",
        "   # Check that image_summaries is not empty before adding\n",
        "   #if image_summaries:\n",
        "       #add_documents(retriever, image_summaries, images)\n",
        "\n",
        "   return retriever\n",
        "\n",
        "\n",
        "# The vectorstore to use to Vecterize, Embbed and index the summaries\n",
        "vectorstore = Chroma(\n",
        "   collection_name=\"mm_rag_cj_blog\",\n",
        "   embedding_function=VertexAIEmbeddings(model_name=\"textembedding-gecko@latest\"),\n",
        ")\n",
        "\n",
        "# Create and initialize retriever using the functions created above\n",
        "retriever_multi_vector_img = create_multi_vector_retriever(\n",
        "   vectorstore,\n",
        "   text_summaries,\n",
        "   texts,\n",
        "   table_summaries,\n",
        "   tables\n",
        ")\n"
      ]
    },
    {
      "cell_type": "markdown",
      "metadata": {
        "id": "AfFi2UMuyuet"
      },
      "source": [
        "Build the milti modal RAG pipeline"
      ]
    },
    {
      "cell_type": "code",
      "execution_count": 64,
      "metadata": {
        "id": "nHzRnrZ_y1Ut"
      },
      "outputs": [],
      "source": [
        "from langchain_core.runnables import RunnableLambda, RunnablePassthrough\n",
        "from langchain_core.messages import HumanMessage\n",
        "import io"
      ]
    },
    {
      "cell_type": "code",
      "execution_count": 65,
      "metadata": {
        "id": "35wN-ZgZPeDd"
      },
      "outputs": [],
      "source": [
        "#convert_Doc_to_Dict() - THis function coverts the retriver output to a dict\n",
        "def convert_Doc_to_Dict(docs):\n",
        "   \"\"\"\n",
        "   coverts the retriver output to a dict\n",
        "   \"\"\"\n",
        "   b64_images = []\n",
        "   texts = []\n",
        "   for doc in docs:\n",
        "       # Check if the document is of type Document and extract page_content if so\n",
        "       if isinstance(doc, Document):\n",
        "           doc = doc.page_content\n",
        "           texts.append(doc)\n",
        "       #if looks_like_base64(doc) and is_image_data(doc):\n",
        "       #    doc = resize_base64_image(doc, size=(1300, 600))\n",
        "       #    b64_images.append(doc)\n",
        "       #else:\n",
        "       #    texts.append(doc)\n",
        "   #if len(b64_images) > 0:\n",
        "   #    return {\"images\": b64_images[:1], \"texts\": []}\n",
        "   return {\"images\": b64_images, \"texts\": texts}"
      ]
    },
    {
      "cell_type": "code",
      "execution_count": 66,
      "metadata": {
        "id": "ReRWqWXfD3oD"
      },
      "outputs": [],
      "source": [
        "#This function creates the prompt for the RAG task\n",
        "def rag_prompt_func(data_dict):\n",
        "   \"\"\"\n",
        "   Join the context into a single string\n",
        "   \"\"\"\n",
        "   formatted_texts = \"\\n\".join(data_dict[\"context\"][\"texts\"])\n",
        "   messages = []\n",
        "\n",
        "   # Adding the text for analysis\n",
        "   text_message = {\n",
        "       \"type\": \"text\",\n",
        "       \"text\": (\n",
        "           \"You are financial analyst tasking with providing investment advice.\\n\"\n",
        "           \"You will be given a text, tables.\\n\"\n",
        "           \"Use this information to provide investment advice related to the user question. \\n\"\n",
        "           f\"User-provided question: {data_dict['question']}\\n\\n\"\n",
        "           \"Text and / or tables:\\n\"\n",
        "           f\"{formatted_texts}\"\n",
        "       ),\n",
        "   }\n",
        "   messages.append(text_message)\n",
        "   '''\n",
        "   # Adding image(s) to the messages if present\n",
        "   if data_dict[\"context\"][\"images\"]:\n",
        "       for image in data_dict[\"context\"][\"images\"]:\n",
        "           image_message = {\n",
        "               \"type\": \"image_url\",\n",
        "               \"image_url\": {\"url\": f\"data:image/jpeg;base64,{image}\"},\n",
        "           }\n",
        "           messages.append(image_message)\n",
        "    '''\n",
        "   return [HumanMessage(content=messages)]\n"
      ]
    },
    {
      "cell_type": "code",
      "execution_count": 67,
      "metadata": {
        "collapsed": true,
        "id": "FcY41_mYt4bp"
      },
      "outputs": [],
      "source": [
        "def multi_modal_rag_chain(retriever):\n",
        "   \"\"\"\n",
        "   Multi-modal RAG chain\n",
        "   \"\"\"\n",
        "\n",
        "   # Multi-modal LLM\n",
        "   model = ChatVertexAI(\n",
        "       temperature=1, model_name=\"gemini-pro-vision\", max_output_tokens=1024\n",
        "       #gemini-1.5-flash, gemma2,\n",
        "   )\n",
        "\n",
        "   # RAG pipeline\n",
        "   chain = (\n",
        "       {\n",
        "           \"context\": retriever | RunnableLambda(convert_Doc_to_Dict),\n",
        "           \"question\": RunnablePassthrough(),\n",
        "       }\n",
        "       | RunnableLambda(rag_prompt_func)\n",
        "       | model\n",
        "       | StrOutputParser()\n",
        "   )\n",
        "\n",
        "   return chain\n",
        "\n",
        "\n",
        "# Create RAG chain\n",
        "chain_multimodal_rag = multi_modal_rag_chain(retriever_multi_vector_img)"
      ]
    },
    {
      "cell_type": "markdown",
      "metadata": {
        "id": "EP7BkhdZE3GX"
      },
      "source": [
        "Test Retrival pipeline"
      ]
    },
    {
      "cell_type": "code",
      "execution_count": 71,
      "metadata": {
        "colab": {
          "base_uri": "https://localhost:8080/"
        },
        "id": "VQWtQAq4Cdkl",
        "outputId": "125153fc-a907-4086-b3b1-551ae75bd419"
      },
      "outputs": [
        {
          "data": {
            "text/plain": [
              "1"
            ]
          },
          "execution_count": 71,
          "metadata": {},
          "output_type": "execute_result"
        }
      ],
      "source": [
        "query = \"What updates do you have about Genrative AI technology space?\"\n",
        "docs = retriever_multi_vector_img.get_relevant_documents(query)#, limit=1)\n",
        "\n",
        "# We get relevant docs\n",
        "len(docs)"
      ]
    },
    {
      "cell_type": "markdown",
      "metadata": {
        "id": "1nn8JikhCW83"
      },
      "source": [
        "Calling the RAG pipeline"
      ]
    },
    {
      "cell_type": "code",
      "execution_count": null,
      "metadata": {
        "colab": {
          "base_uri": "https://localhost:8080/",
          "height": 46
        },
        "id": "A8n6Nl8xVkOk",
        "outputId": "ee0321b2-123d-4232-c123-3f27d0307fff"
      },
      "outputs": [],
      "source": [
        "result = chain_multimodal_rag.invoke(query)\n",
        "\n",
        "from IPython.display import Markdown as md\n",
        "md(result)"
      ]
    }
  ],
  "metadata": {
    "colab": {
      "provenance": []
    },
    "kernelspec": {
      "display_name": "Python 3",
      "name": "python3"
    },
    "language_info": {
      "codemirror_mode": {
        "name": "ipython",
        "version": 3
      },
      "file_extension": ".py",
      "mimetype": "text/x-python",
      "name": "python",
      "nbconvert_exporter": "python",
      "pygments_lexer": "ipython3",
      "version": "3.12.5"
    }
  },
  "nbformat": 4,
  "nbformat_minor": 0
}
